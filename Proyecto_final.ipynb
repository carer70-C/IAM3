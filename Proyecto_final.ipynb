{
  "nbformat": 4,
  "nbformat_minor": 0,
  "metadata": {
    "colab": {
      "name": "Proyecto final.ipynb",
      "provenance": [],
      "collapsed_sections": [],
      "authorship_tag": "ABX9TyNk2/RwkLnZpfn9+61Z/Z4z",
      "include_colab_link": true
    },
    "kernelspec": {
      "name": "python3",
      "display_name": "Python 3"
    },
    "language_info": {
      "name": "python"
    }
  },
  "cells": [
    {
      "cell_type": "markdown",
      "metadata": {
        "id": "view-in-github",
        "colab_type": "text"
      },
      "source": [
        "<a href=\"https://colab.research.google.com/github/carer70-C/IAM3/blob/main/Proyecto_final.ipynb\" target=\"_parent\"><img src=\"https://colab.research.google.com/assets/colab-badge.svg\" alt=\"Open In Colab\"/></a>"
      ]
    },
    {
      "cell_type": "markdown",
      "metadata": {
        "id": "hhZy0DYkU9t6"
      },
      "source": [
        "$Aprendizaje\\ de\\ Máquina\\\\\n",
        "Proyecto\\ Final\\\\ \n",
        "13\\ de\\ Agosto\\ de\\ 2021\\\\\n",
        "Profesor:\\ Francisco\\ Gomez\\\\\n",
        "Estudiante:\\ Carlos\\ Ernesto\\ Isaza\\ Carvajal$"
      ]
    },
    {
      "cell_type": "markdown",
      "metadata": {
        "id": "djPdRFs1VTrQ"
      },
      "source": [
        "¿HAY SOBRE AJUSTE EN REDES NEURONALES PROFUNDAS?\n",
        "\n",
        "Vídeo: https://youtu.be/PEG0yUkHPPg\n",
        "\n",
        "Guión:\n",
        "\n",
        "Diapositivas 1 y 2: \n",
        "\n",
        "Presentación y resumen del esquema de aprendizaje de máquina incluyendo ruido en los datos. Tiempo máximo, 1.5 minutos. \n",
        "\n",
        "Diapositivas 3 y 4:\n",
        "\n",
        "Se explica el concepto de sobreajuste ocasionado por ruido estocástico y ruido determinista.\n",
        "Tiempo máximo, 2.0 minutos\n",
        "\n",
        "Diapositivas 5 y 6:\n",
        "\n",
        "Se da el concepto de rede neuronal profunda y explica que esta red, intuitivamente, debería tener sobreajuste. \n",
        "Tiempo máximo, 1.5 minutos.\n",
        "\n",
        "Diapositiva 7:\n",
        "\n",
        "Se explica el experimento del profesor Aurora, en el que hace tender al infinito los parametros de una red neuronal y aun sigue funcionando bien.\n",
        "Tiempo máximo, 1.0 minutos.\n",
        "\n",
        "Diapositiva 8:\n",
        "\n",
        "Se explica el experimento del profesor Shang, en el que ingresa ruido estocástico a una red neuronal, mediante la mezcla de imágenes y etiquetas de diferente tipo, y aun sigue clasificando las imágenes por separado  .\n",
        "Tiempo máximo, 1.0 minutos.\n",
        "\n",
        "Diapositiva 9:\n",
        "\n",
        "Se resalta la importancia de entender las redes neuronales profundas.\n",
        "Tiempo máximo, 0.5 minutos.\n",
        "\n",
        "Diapositiva 10 y 11:\n",
        "\n",
        "Se presentan algunas perspectivas de investigación y se cierra la presentación. Tiempo máximo, 0.5 minutos.\n"
      ]
    },
    {
      "cell_type": "code",
      "metadata": {
        "id": "rFc39OyFU2t_"
      },
      "source": [
        ""
      ],
      "execution_count": null,
      "outputs": []
    }
  ]
}